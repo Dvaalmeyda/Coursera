{
 "cells": [
  {
   "cell_type": "code",
   "execution_count": null,
   "metadata": {},
   "outputs": [],
   "source": [
    "import re\n",
    "def transform_record(record):\n",
    "  new_record = re.sub(r'(\\d{3}-\\d{3}-?\\d{4})', r\"+1-\\1\", record)\n",
    "  return new_record\n",
    "\n",
    "print(transform_record(\"Sabrina Green,802-867-5309,System Administrator\")) \n",
    "# Sabrina Green,+1-802-867-5309,System Administrator\n",
    "\n",
    "print(transform_record(\"Eli Jones,684-3481127,IT specialist\")) \n",
    "# Eli Jones,+1-684-3481127,IT specialist\n",
    "\n",
    "print(transform_record(\"Melody Daniels,846-687-7436,Programmer\")) \n",
    "# Melody Daniels,+1-846-687-7436,Programmer\n",
    "\n",
    "print(transform_record(\"Charlie Rivera,698-746-3357,Web Developer\")) \n",
    "# Charlie Rivera,+1-698-746-3357,Web Developer"
   ]
  },
  {
   "cell_type": "code",
   "execution_count": null,
   "metadata": {},
   "outputs": [],
   "source": [
    "import re\n",
    "def multi_vowel_words(text):\n",
    "  pattern = r'\\w*[aeiou]{3}\\w*'\n",
    "  result = re.findall(pattern, text)\n",
    "  return result\n",
    "\n",
    "print(multi_vowel_words(\"Life is beautiful\")) \n",
    "# ['beautiful']\n",
    "\n",
    "print(multi_vowel_words(\"Obviously, the queen is courageous and gracious.\")) \n",
    "# ['Obviously', 'queen', 'courageous', 'gracious']\n",
    "\n",
    "print(multi_vowel_words(\"The rambunctious children had to sit quietly and await their delicious dinner.\")) \n",
    "# ['rambunctious', 'quietly', 'delicious']\n",
    "\n",
    "print(multi_vowel_words(\"The order of a data queue is First In First Out (FIFO)\")) \n",
    "# ['queue']\n",
    "\n",
    "print(multi_vowel_words(\"Hello world!\")) \n",
    "# []"
   ]
  },
  {
   "cell_type": "code",
   "execution_count": null,
   "metadata": {},
   "outputs": [],
   "source": [
    "import re\n",
    "def transform_comments(line_of_code):\n",
    "  result = re.sub (r'(#{1,})', r'//', line_of_code)\n",
    "  return result\n",
    "\n",
    "print(transform_comments(\"### Start of program\")) \n",
    "# Should be \"// Start of program\"\n",
    "print(transform_comments(\"  number = 0   ## Initialize the variable\")) \n",
    "# Should be \"  number = 0   // Initialize the variable\"\n",
    "print(transform_comments(\"  number += 1   # Increment the variable\")) \n",
    "# Should be \"  number += 1   // Increment the variable\"\n",
    "print(transform_comments(\"  return(number)\")) \n",
    "# Should be \"  return(number)\""
   ]
  },
  {
   "cell_type": "code",
   "execution_count": null,
   "metadata": {},
   "outputs": [],
   "source": [
    "import re\n",
    "def convert_phone_number(phone):\n",
    "  result = re.sub(r'(\\d{3})-(\\d{3})-(\\d{4}\\b)', r'(\\1) \\2-\\3', phone)\n",
    "  return result\n",
    "\n",
    "print(convert_phone_number(\"My number is 212-345-9999.\")) # My number is (212) 345-9999.\n",
    "print(convert_phone_number(\"Please call 888-555-1234\")) # Please call (888) 555-1234\n",
    "print(convert_phone_number(\"123-123-12345\")) # 123-123-12345\n",
    "print(convert_phone_number(\"Phone number of Buckingham Palace is +44 303 123 7300\")) # Phone number of Buckingham Palace is +44 303 123 7300"
   ]
  }
 ],
 "metadata": {
  "language_info": {
   "name": "python"
  },
  "orig_nbformat": 4
 },
 "nbformat": 4,
 "nbformat_minor": 2
}
