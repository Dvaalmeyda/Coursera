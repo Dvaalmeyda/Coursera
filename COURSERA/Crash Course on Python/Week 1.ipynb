{
 "cells": [
  {
   "cell_type": "markdown",
   "metadata": {},
   "source": [
    "Write Python script that outputs \"Automating with Python is fun!\""
   ]
  },
  {
   "cell_type": "code",
   "execution_count": 1,
   "metadata": {},
   "outputs": [
    {
     "name": "stdout",
     "output_type": "stream",
     "text": [
      "Automating with Python is fun!\n"
     ]
    }
   ],
   "source": [
    "# Enter code here:\n",
    "print(\"Automating with Python is fun!\")\n",
    "# Should print: Automating with Python is fun!"
   ]
  },
  {
   "cell_type": "markdown",
   "metadata": {},
   "source": [
    "What should be the output of the expression below?"
   ]
  },
  {
   "cell_type": "code",
   "execution_count": 2,
   "metadata": {},
   "outputs": [
    {
     "name": "stdout",
     "output_type": "stream",
     "text": [
      "20.0\n"
     ]
    }
   ],
   "source": [
    "print(6*2-5/(1+4)+3**2)"
   ]
  },
  {
   "cell_type": "markdown",
   "metadata": {},
   "source": [
    "\"In a year, if there are 365 days, with 24 hours in a day, and 60 minutes in an hour.\"\n",
    "\n",
    "write program to calculate minutes in a year"
   ]
  },
  {
   "cell_type": "code",
   "execution_count": 3,
   "metadata": {},
   "outputs": [
    {
     "name": "stdout",
     "output_type": "stream",
     "text": [
      "525600\n"
     ]
    }
   ],
   "source": [
    "# Enter code here:\n",
    "minutes_in_an_hour = 60\n",
    "hours_in_a_day = 24\n",
    "days_in_a_year = 365\n",
    "\n",
    "minutes_in_a_year = minutes_in_an_hour*hours_in_a_day*days_in_a_year\n",
    "print(minutes_in_a_year)\n",
    "\n",
    "# Should print 525600"
   ]
  },
  {
   "cell_type": "markdown",
   "metadata": {},
   "source": [
    "How many different passwords can be formed with 6 lower case letters. For each letter, there would be 26 possibiities"
   ]
  },
  {
   "cell_type": "code",
   "execution_count": 4,
   "metadata": {},
   "outputs": [
    {
     "name": "stdout",
     "output_type": "stream",
     "text": [
      "308915776\n"
     ]
    }
   ],
   "source": [
    "# Enter code here:\n",
    "possibilities = 26**6\n",
    "print(possibilities)\n",
    "\n",
    "# Should print 308915776"
   ]
  },
  {
   "cell_type": "markdown",
   "metadata": {},
   "source": [
    "Most hard drives are divided into sectors of 512 bytes each. Our disk has a size of 16 GB (transform it to bytes size by mutiplying it to 1024 three times). Fill in the blank to calculate how many sectors the disk has."
   ]
  },
  {
   "cell_type": "code",
   "execution_count": 5,
   "metadata": {},
   "outputs": [
    {
     "name": "stdout",
     "output_type": "stream",
     "text": [
      "33554432.0\n"
     ]
    }
   ],
   "source": [
    "disk_size = 16*1024*1024*1024\n",
    "sector_size = 512\n",
    "sector_amount = disk_size / sector_size\n",
    "\n",
    "print(sector_amount) # Should print 33554432.0"
   ]
  }
 ],
 "metadata": {
  "kernelspec": {
   "display_name": "Python 3",
   "language": "python",
   "name": "python3"
  },
  "language_info": {
   "codemirror_mode": {
    "name": "ipython",
    "version": 3
   },
   "file_extension": ".py",
   "mimetype": "text/x-python",
   "name": "python",
   "nbconvert_exporter": "python",
   "pygments_lexer": "ipython3",
   "version": "3.11.3"
  },
  "orig_nbformat": 4
 },
 "nbformat": 4,
 "nbformat_minor": 2
}
